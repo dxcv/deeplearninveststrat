{
 "cells": [
  {
   "cell_type": "code",
   "execution_count": 15,
   "metadata": {},
   "outputs": [],
   "source": [
    "import pandas as pd\n",
    "from pandas import DataFrame\n",
    "import matplotlib.pyplot as plt\n",
    "import numpy as np"
   ]
  },
  {
   "cell_type": "code",
   "execution_count": 4,
   "metadata": {},
   "outputs": [],
   "source": [
    "data = pd.read_csv('./Models/LSTM-201812281334-Paras-208328False/MyPortfolio.csv', index_col=0)"
   ]
  },
  {
   "cell_type": "code",
   "execution_count": 6,
   "metadata": {},
   "outputs": [
    {
     "data": {
      "text/html": [
       "<div>\n",
       "<style scoped>\n",
       "    .dataframe tbody tr th:only-of-type {\n",
       "        vertical-align: middle;\n",
       "    }\n",
       "\n",
       "    .dataframe tbody tr th {\n",
       "        vertical-align: top;\n",
       "    }\n",
       "\n",
       "    .dataframe thead th {\n",
       "        text-align: right;\n",
       "    }\n",
       "</style>\n",
       "<table border=\"1\" class=\"dataframe\">\n",
       "  <thead>\n",
       "    <tr style=\"text-align: right;\">\n",
       "      <th></th>\n",
       "      <th>PortfolioValue</th>\n",
       "      <th>SPX</th>\n",
       "      <th>SPXBench</th>\n",
       "    </tr>\n",
       "    <tr>\n",
       "      <th>Date</th>\n",
       "      <th></th>\n",
       "      <th></th>\n",
       "      <th></th>\n",
       "    </tr>\n",
       "  </thead>\n",
       "  <tbody>\n",
       "    <tr>\n",
       "      <th>2011-03-31</th>\n",
       "      <td>1.000000e+08</td>\n",
       "      <td>1325.83</td>\n",
       "      <td>1.000000e+08</td>\n",
       "    </tr>\n",
       "    <tr>\n",
       "      <th>2011-06-30</th>\n",
       "      <td>9.932911e+07</td>\n",
       "      <td>1320.64</td>\n",
       "      <td>9.960855e+07</td>\n",
       "    </tr>\n",
       "    <tr>\n",
       "      <th>2011-09-30</th>\n",
       "      <td>8.956888e+07</td>\n",
       "      <td>1131.42</td>\n",
       "      <td>8.533673e+07</td>\n",
       "    </tr>\n",
       "    <tr>\n",
       "      <th>2012-12-31</th>\n",
       "      <td>1.104105e+08</td>\n",
       "      <td>1426.19</td>\n",
       "      <td>1.075696e+08</td>\n",
       "    </tr>\n",
       "    <tr>\n",
       "      <th>2013-09-30</th>\n",
       "      <td>1.294821e+08</td>\n",
       "      <td>1681.55</td>\n",
       "      <td>1.268300e+08</td>\n",
       "    </tr>\n",
       "    <tr>\n",
       "      <th>2013-12-31</th>\n",
       "      <td>1.376412e+08</td>\n",
       "      <td>1848.36</td>\n",
       "      <td>1.394115e+08</td>\n",
       "    </tr>\n",
       "    <tr>\n",
       "      <th>2014-03-31</th>\n",
       "      <td>1.402939e+08</td>\n",
       "      <td>1872.34</td>\n",
       "      <td>1.412202e+08</td>\n",
       "    </tr>\n",
       "    <tr>\n",
       "      <th>2014-06-30</th>\n",
       "      <td>1.436677e+08</td>\n",
       "      <td>1960.23</td>\n",
       "      <td>1.478493e+08</td>\n",
       "    </tr>\n",
       "    <tr>\n",
       "      <th>2014-09-30</th>\n",
       "      <td>1.364541e+08</td>\n",
       "      <td>1972.29</td>\n",
       "      <td>1.487589e+08</td>\n",
       "    </tr>\n",
       "    <tr>\n",
       "      <th>2014-12-31</th>\n",
       "      <td>1.402519e+08</td>\n",
       "      <td>2058.90</td>\n",
       "      <td>1.552914e+08</td>\n",
       "    </tr>\n",
       "    <tr>\n",
       "      <th>2015-03-31</th>\n",
       "      <td>1.409441e+08</td>\n",
       "      <td>2067.89</td>\n",
       "      <td>1.559695e+08</td>\n",
       "    </tr>\n",
       "    <tr>\n",
       "      <th>2015-06-30</th>\n",
       "      <td>1.369978e+08</td>\n",
       "      <td>2063.11</td>\n",
       "      <td>1.556089e+08</td>\n",
       "    </tr>\n",
       "    <tr>\n",
       "      <th>2015-09-30</th>\n",
       "      <td>1.295921e+08</td>\n",
       "      <td>1920.03</td>\n",
       "      <td>1.448172e+08</td>\n",
       "    </tr>\n",
       "    <tr>\n",
       "      <th>2015-12-31</th>\n",
       "      <td>1.394262e+08</td>\n",
       "      <td>2043.94</td>\n",
       "      <td>1.541631e+08</td>\n",
       "    </tr>\n",
       "    <tr>\n",
       "      <th>2016-03-31</th>\n",
       "      <td>1.478204e+08</td>\n",
       "      <td>2059.74</td>\n",
       "      <td>1.553548e+08</td>\n",
       "    </tr>\n",
       "    <tr>\n",
       "      <th>2016-06-30</th>\n",
       "      <td>1.468964e+08</td>\n",
       "      <td>2098.86</td>\n",
       "      <td>1.583054e+08</td>\n",
       "    </tr>\n",
       "    <tr>\n",
       "      <th>2016-09-30</th>\n",
       "      <td>1.430158e+08</td>\n",
       "      <td>2168.27</td>\n",
       "      <td>1.635406e+08</td>\n",
       "    </tr>\n",
       "    <tr>\n",
       "      <th>2017-03-31</th>\n",
       "      <td>1.633894e+08</td>\n",
       "      <td>2362.72</td>\n",
       "      <td>1.782069e+08</td>\n",
       "    </tr>\n",
       "    <tr>\n",
       "      <th>2017-06-30</th>\n",
       "      <td>1.633677e+08</td>\n",
       "      <td>2423.41</td>\n",
       "      <td>1.827844e+08</td>\n",
       "    </tr>\n",
       "  </tbody>\n",
       "</table>\n",
       "</div>"
      ],
      "text/plain": [
       "            PortfolioValue      SPX      SPXBench\n",
       "Date                                             \n",
       "2011-03-31    1.000000e+08  1325.83  1.000000e+08\n",
       "2011-06-30    9.932911e+07  1320.64  9.960855e+07\n",
       "2011-09-30    8.956888e+07  1131.42  8.533673e+07\n",
       "2012-12-31    1.104105e+08  1426.19  1.075696e+08\n",
       "2013-09-30    1.294821e+08  1681.55  1.268300e+08\n",
       "2013-12-31    1.376412e+08  1848.36  1.394115e+08\n",
       "2014-03-31    1.402939e+08  1872.34  1.412202e+08\n",
       "2014-06-30    1.436677e+08  1960.23  1.478493e+08\n",
       "2014-09-30    1.364541e+08  1972.29  1.487589e+08\n",
       "2014-12-31    1.402519e+08  2058.90  1.552914e+08\n",
       "2015-03-31    1.409441e+08  2067.89  1.559695e+08\n",
       "2015-06-30    1.369978e+08  2063.11  1.556089e+08\n",
       "2015-09-30    1.295921e+08  1920.03  1.448172e+08\n",
       "2015-12-31    1.394262e+08  2043.94  1.541631e+08\n",
       "2016-03-31    1.478204e+08  2059.74  1.553548e+08\n",
       "2016-06-30    1.468964e+08  2098.86  1.583054e+08\n",
       "2016-09-30    1.430158e+08  2168.27  1.635406e+08\n",
       "2017-03-31    1.633894e+08  2362.72  1.782069e+08\n",
       "2017-06-30    1.633677e+08  2423.41  1.827844e+08"
      ]
     },
     "execution_count": 6,
     "metadata": {},
     "output_type": "execute_result"
    }
   ],
   "source": [
    "data"
   ]
  },
  {
   "cell_type": "code",
   "execution_count": 7,
   "metadata": {},
   "outputs": [
    {
     "data": {
      "text/plain": [
       "Index(['PortfolioValue', 'SPX', 'SPXBench'], dtype='object')"
      ]
     },
     "execution_count": 7,
     "metadata": {},
     "output_type": "execute_result"
    }
   ],
   "source": [
    "data.columns"
   ]
  },
  {
   "cell_type": "code",
   "execution_count": 8,
   "metadata": {},
   "outputs": [
    {
     "data": {
      "text/plain": [
       "Index(['2011-03-31', '2011-06-30', '2011-09-30', '2012-12-31', '2013-09-30',\n",
       "       '2013-12-31', '2014-03-31', '2014-06-30', '2014-09-30', '2014-12-31',\n",
       "       '2015-03-31', '2015-06-30', '2015-09-30', '2015-12-31', '2016-03-31',\n",
       "       '2016-06-30', '2016-09-30', '2017-03-31', '2017-06-30'],\n",
       "      dtype='object', name='Date')"
      ]
     },
     "execution_count": 8,
     "metadata": {},
     "output_type": "execute_result"
    }
   ],
   "source": [
    "data.index"
   ]
  },
  {
   "cell_type": "code",
   "execution_count": 14,
   "metadata": {},
   "outputs": [
    {
     "data": {
      "text/plain": [
       "['2011-03-31',\n",
       " '2011-06-30',\n",
       " '2011-09-30',\n",
       " '2012-12-31',\n",
       " '2013-09-30',\n",
       " '2013-12-31',\n",
       " '2014-03-31',\n",
       " '2014-06-30',\n",
       " '2014-09-30',\n",
       " '2014-12-31',\n",
       " '2015-03-31',\n",
       " '2015-06-30',\n",
       " '2015-09-30',\n",
       " '2015-12-31',\n",
       " '2016-03-31',\n",
       " '2016-06-30',\n",
       " '2016-09-30',\n",
       " '2017-03-31',\n",
       " '2017-06-30']"
      ]
     },
     "execution_count": 14,
     "metadata": {},
     "output_type": "execute_result"
    }
   ],
   "source": [
    "date_list = []\n",
    "for i in data.index:\n",
    "    date_list.append(i)\n",
    "date_list"
   ]
  },
  {
   "cell_type": "code",
   "execution_count": 22,
   "metadata": {},
   "outputs": [],
   "source": [
    "portfolio_value = np.array(data.PortfolioValue)\n",
    "market_bench = np.array(data.SPXBench)"
   ]
  },
  {
   "cell_type": "code",
   "execution_count": 23,
   "metadata": {},
   "outputs": [],
   "source": [
    "date_ar = date_list\n",
    "portfolio_ar = portfolio_value\n",
    "market_ar = market_bench"
   ]
  },
  {
   "cell_type": "code",
   "execution_count": 26,
   "metadata": {},
   "outputs": [
    {
     "data": {
      "text/plain": [
       "Text(0.5, 1.0, 'My Portfolio Value VS SPX Benchmark')"
      ]
     },
     "execution_count": 26,
     "metadata": {},
     "output_type": "execute_result"
    },
    {
     "data": {
      "image/png": "[encoded data removed]",
      "text/plain": [
       "<Figure size 432x288 with 1 Axes>"
      ]
     },
     "metadata": {
      "needs_background": "light"
     },
     "output_type": "display_data"
    }
   ],
   "source": [
    "plt.plot(date_ar, portfolio_ar, color = 'red', label = 'Portfolio Value')\n",
    "plt.plot(date_ar, market_ar, color = 'blue', label = 'SPX Value')\n",
    "plt.xlabel('Date')\n",
    "plt.ylabel('Value in 1e8')\n",
    "plt.title('My Portfolio Value VS SPX Benchmark')"
   ]
  },
  {
   "cell_type": "code",
   "execution_count": null,
   "metadata": {},
   "outputs": [],
   "source": []
  }
 ],
 "metadata": {
  "kernelspec": {
   "display_name": "Python 3",
   "language": "python",
   "name": "python3"
  },
  "language_info": {
   "codemirror_mode": {
    "name": "ipython",
    "version": 3
   },
   "file_extension": ".py",
   "mimetype": "text/x-python",
   "name": "python",
   "nbconvert_exporter": "python",
   "pygments_lexer": "ipython3",
   "version": "3.6.6"
  }
 },
 "nbformat": 4,
 "nbformat_minor": 2
}

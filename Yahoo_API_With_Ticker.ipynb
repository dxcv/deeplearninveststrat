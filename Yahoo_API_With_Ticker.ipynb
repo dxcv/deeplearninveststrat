{
 "cells": [
  {
   "cell_type": "code",
   "execution_count": 25,
   "metadata": {},
   "outputs": [
    {
     "name": "stdout",
     "output_type": "stream",
     "text": [
      "[*********************100%***********************]  1 of 1 downloaded\n"
     ]
    },
    {
     "name": "stderr",
     "output_type": "stream",
     "text": [
      "/anaconda3/lib/python3.6/site-packages/ipykernel_launcher.py:13: FutureWarning: pd.TimeGrouper is deprecated and will be removed; Please use pd.Grouper(freq=...)\n",
      "  del sys.path[0]\n"
     ]
    },
    {
     "data": {
      "text/plain": [
       "Date\n",
       "2001-01-01      0.881780\n",
       "2001-02-01      0.939038\n",
       "2001-03-01      0.992634\n",
       "2001-04-01      1.086671\n",
       "2001-05-01      1.125577\n",
       "2001-06-01      1.029891\n",
       "2001-07-01      1.026611\n",
       "2001-08-01      0.891920\n",
       "2001-09-01      0.794124\n",
       "2001-10-01      0.828573\n",
       "2001-11-01      0.939874\n",
       "2001-12-01      1.037738\n",
       "2002-01-01      1.081346\n",
       "2002-02-01      1.139283\n",
       "2002-03-01      1.159593\n",
       "2002-04-01      1.174758\n",
       "2002-05-01      1.153516\n",
       "2002-06-01      0.935495\n",
       "2002-07-01      0.781918\n",
       "2002-08-01      0.725584\n",
       "2002-09-01      0.694775\n",
       "2002-10-01      0.700775\n",
       "2002-11-01      0.763559\n",
       "2002-12-01      0.703693\n",
       "2003-01-01      0.692395\n",
       "2003-02-01      0.701409\n",
       "2003-03-01      0.698454\n",
       "2003-04-01      0.662420\n",
       "2003-05-01      0.849993\n",
       "2003-06-01      0.869400\n",
       "                 ...    \n",
       "2015-07-01    117.842185\n",
       "2015-08-01    107.027342\n",
       "2015-09-01    106.533979\n",
       "2015-10-01    107.065131\n",
       "2015-11-01    112.004727\n",
       "2015-12-01    105.974331\n",
       "2016-01-01     93.361131\n",
       "2016-02-01     91.235665\n",
       "2016-03-01     99.435508\n",
       "2016-04-01    101.792739\n",
       "2016-05-01     91.046814\n",
       "2016-06-01     92.705798\n",
       "2016-07-01     94.561622\n",
       "2016-08-01    103.789250\n",
       "2016-09-01    106.939862\n",
       "2016-10-01    111.618486\n",
       "2016-11-01    106.754803\n",
       "2016-12-01    110.861799\n",
       "2017-01-01    115.937048\n",
       "2017-02-01    130.040994\n",
       "2017-03-01    136.936506\n",
       "2017-04-01    139.146117\n",
       "2017-05-01    148.635664\n",
       "2017-06-01    144.555410\n",
       "2017-07-01    145.013172\n",
       "2017-08-01    155.924515\n",
       "2017-09-01    154.721093\n",
       "2017-10-01    154.926039\n",
       "2017-11-01    169.652994\n",
       "2017-12-01    168.519974\n",
       "Freq: MS, Name: Adj Close, Length: 204, dtype: float64"
      ]
     },
     "execution_count": 25,
     "metadata": {},
     "output_type": "execute_result"
    }
   ],
   "source": [
    "import pandas as pd\n",
    "from pandas_datareader import data as pdr\n",
    "import fix_yahoo_finance as yf\n",
    "import datetime\n",
    "\n",
    "yf.pdr_override() \n",
    "\n",
    "stocks = ['AAPL']\n",
    "start = datetime.datetime(2001,1,1)\n",
    "end = datetime.datetime(2017,12,1)\n",
    "\n",
    "f = pdr.get_data_yahoo(stocks, start=start, end=end)\n",
    "f.groupby(pd.TimeGrouper(freq='MS'))['Adj Close'].mean()"
   ]
  },
  {
   "cell_type": "code",
   "execution_count": null,
   "metadata": {},
   "outputs": [],
   "source": []
  },
  {
   "cell_type": "code",
   "execution_count": null,
   "metadata": {},
   "outputs": [],
   "source": []
  },
  {
   "cell_type": "code",
   "execution_count": null,
   "metadata": {},
   "outputs": [],
   "source": []
  }
 ],
 "metadata": {
  "kernelspec": {
   "display_name": "Python 3",
   "language": "python",
   "name": "python3"
  },
  "language_info": {
   "codemirror_mode": {
    "name": "ipython",
    "version": 3
   },
   "file_extension": ".py",
   "mimetype": "text/x-python",
   "name": "python",
   "nbconvert_exporter": "python",
   "pygments_lexer": "ipython3",
   "version": "3.6.6"
  }
 },
 "nbformat": 4,
 "nbformat_minor": 2
}

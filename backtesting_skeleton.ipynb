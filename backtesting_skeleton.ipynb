{
 "cells": [
  {
   "cell_type": "code",
   "execution_count": 224,
   "metadata": {},
   "outputs": [],
   "source": [
    "import numpy as np\n",
    "import string"
   ]
  },
  {
   "cell_type": "code",
   "execution_count": 225,
   "metadata": {},
   "outputs": [],
   "source": [
    "N = 26\n",
    "n = 10\n",
    "tickers = np.array(list(string.ascii_uppercase))\n",
    "years = 20\n",
    "prices = np.random.random((1,N))*10 + 100\n",
    "indicators = np.random.random((1,N))*100\n",
    "volumes = np.random.random((1,N))*1000000 + 10000000"
   ]
  },
  {
   "cell_type": "code",
   "execution_count": 226,
   "metadata": {},
   "outputs": [],
   "source": [
    "for i in range(12*years-1):\n",
    "    prices = np.vstack((prices, prices[-1] * (1 + (np.random.random(N)-0.5)/5))) # multiply by 1+[-0.1,0.1]\n",
    "    indicators = np.vstack((indicators, indicators[-1] + 6*np.random.random(N)-3)) # add [-3, 3] \n",
    "    volumes = np.vstack((volumes, volumes[-1] * (1 + (np.random.random(N)-0.5)/5))) # multiply by 1+[-0.1,0.1]"
   ]
  },
  {
   "cell_type": "code",
   "execution_count": 227,
   "metadata": {},
   "outputs": [],
   "source": [
    "class algo(object):\n",
    "    def __init__(self, initial_prices, initial_indicators, initial_volume): \n",
    "                     # intial_prices, initial_indicators, initial_volume are N-d arrays\n",
    "        self.months = 0\n",
    "        self.avail_capital = 100000000\n",
    "        \n",
    "        self.price_arr = initial_prices\n",
    "        self.indicator_arr = initial_indicators\n",
    "        self.volume_arr = initial_volume\n",
    "        \n",
    "        # Initialize portfolio\n",
    "        self.top_indices = np.argsort(-self.indicator_arr)[:n] # argsort is ascending so negate indicator_arr\n",
    "        \n",
    "        self.entry_months = np.array([-1]*N) # -1 indicates there is no position so no entry month\n",
    "        self.entry_months[self.top_indices] = 0\n",
    "        \n",
    "        self.shares = np.array([0]*N)\n",
    "        self.shares[self.top_indices] = (self.avail_capital/n/self.price_arr[self.top_indices]).astype(int)\n",
    "        self.avail_capital = self.avail_capital - np.sum(self.price_arr*self.shares)        \n",
    "        \n",
    "    def process_new_data(self, new_prices, new_indicators, new_volumes):\n",
    "        self.months += 1\n",
    "        self.price_arr = np.vstack((self.price_arr, new_prices))\n",
    "        self.indicator_arr = np.vstack((self.indicator_arr, new_indicators))\n",
    "        self.volume_arr = np.vstack((self.volume_arr, new_volumes))\n",
    "        \n",
    "        self.update_portfolio()\n",
    "        \n",
    "    def update_portfolio(self):\n",
    "        self.new_top_indices = np.argsort(-self.indicator_arr[-1])[:n]\n",
    "        sell_indices = []\n",
    "        buy_indices = []\n",
    "        for x in self.top_indices:# Try to add new indices not currently in portfolio to buy_indices\n",
    "            if (self.months-self.entry_months[x] >= 12) and (x not in new_top_indices): # if held for >=1yr and not in new top indices\n",
    "                sell_indices += x\n",
    "                \n",
    "        for y in self.new_top_indices: # Add k best new indices to portfolio, k = number of stocks we will sell\n",
    "            if y not in self.top_indices:\n",
    "                buy_indices += y\n",
    "                if len(buy_indices) == len(sell_indices): # Stop once we have same number of buy as sell\n",
    "                    break\n",
    "        \n",
    "        self.execute_sell(sell_indices)\n",
    "        self.execute_buy(buy_indices)\n",
    "    \n",
    "    def execute_sell(self, sell_indices):\n",
    "        print('selling', tickers[sell_indices])\n",
    "        for i in sell_indices:\n",
    "            sell_gain = self.price_arr[-1, i] *self.shares[i]\n",
    "            transaction_cost = 0.01 * self.shares[i]\n",
    "            slip_cost = 0\n",
    "            if self.shares[i] >= 0.1 * self.volume_arr[-1, i]:\n",
    "                slip_cost = self.price_arr[-1, i] * 0.01 * self.shares[i]\n",
    "            \n",
    "            self.avail_capital += sell_gain - transaction_cost - slip_cost # Update capital\n",
    "            self.shares[i] = 0 # Reset shares\n",
    "            self.entry_months[i] = -1 # Reset entry_mont to -1 to denote no position\n",
    "            \n",
    "        \n",
    "    def execute_buy(self, buy_indices):\n",
    "        print('buying', tickers[buy_indices])\n",
    "        for i in buy_indices:\n",
    "            buy_money = self.avail_capital/len(buy_indices) # Allocate avail_capital equally \n",
    "            buy_price = self.price_arr[-1, i] + 0.01\n",
    "            n_shares = int(buy_money/buy_price)\n",
    "            if n_shares >= 0.1 * self.volume_arr[-1, i]:\n",
    "                buy_price = self.price_arr[-1, i] + 0.01 + 0.1*self.price_arr[-1, i]\n",
    "                n_shares = int(buy_money/buy_price)\n",
    "                \n",
    "            self.shares[i] = n_shares\n",
    "            self.entry_months[i] = self.months\n",
    "            self.avail_capital = self.avail_capital - n_shares*buy_price\n",
    "        "
   ]
  }
 ],
 "metadata": {
  "kernelspec": {
   "display_name": "Python 3",
   "language": "python",
   "name": "python3"
  },
  "language_info": {
   "codemirror_mode": {
    "name": "ipython",
    "version": 3
   },
   "file_extension": ".py",
   "mimetype": "text/x-python",
   "name": "python",
   "nbconvert_exporter": "python",
   "pygments_lexer": "ipython3",
   "version": "3.6.5"
  }
 },
 "nbformat": 4,
 "nbformat_minor": 2
}

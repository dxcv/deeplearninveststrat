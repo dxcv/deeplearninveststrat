{
 "cells": [
  {
   "cell_type": "code",
   "execution_count": 310,
   "metadata": {},
   "outputs": [],
   "source": [
    "from sklearn import preprocessing\n",
    "from MyLSTM import MyLSTM\n",
    "from datetime import datetime\n",
    "from backTesting import algo2\n",
    "\n",
    "import numpy as np\n",
    "import pandas as pd\n",
    "import matplotlib.pyplot as plt\n",
    "%matplotlib inline"
   ]
  },
  {
   "cell_type": "markdown",
   "metadata": {},
   "source": [
    "## Data Processing"
   ]
  },
  {
   "cell_type": "code",
   "execution_count": 311,
   "metadata": {
    "collapsed": true
   },
   "outputs": [],
   "source": [
    "df = pd.read_csv('/Users/bowen/Desktop/H/deeplearninveststrat/Data/100_clean.csv', index_col=0)\n",
    "timeline = df[df['gvkey']==1209]['Date'].values.tolist()\n",
    "df.drop(['Ticker','Date', 'Adjusted Close', 'Volume'], axis = 1, inplace=True)"
   ]
  },
  {
   "cell_type": "code",
   "execution_count": 312,
   "metadata": {
    "scrolled": true
   },
   "outputs": [
    {
     "name": "stdout",
     "output_type": "stream",
     "text": [
      "we drop the 2698\n",
      "we drop the 5680\n",
      "we drop the 5709\n",
      "we drop the 5903\n",
      "we drop the 6135\n",
      "we drop the 8092\n",
      "we drop the 10565\n",
      "we drop the 11012\n",
      "we drop the 11017\n",
      "we drop the 12304\n",
      "we drop the 12785\n",
      "we drop the 13400\n",
      "we drop the 13679\n",
      "we drop the 17175\n",
      "we drop the 17422\n",
      "we drop the 19602\n",
      "we drop the 21807\n",
      "we drop the 21824\n",
      "we drop the 22964\n",
      "we drop the 23109\n",
      "we drop the 23337\n",
      "we drop the 24552\n",
      "we drop the 25740\n",
      "we drop the 25750\n",
      "we drop the 28347\n",
      "we drop the 30241\n",
      "we drop the 32796\n",
      "we drop the 33047\n",
      "we drop the 33048\n",
      "we drop the 33068\n",
      "we drop the 33081\n",
      "we drop the 33150\n",
      "we drop the 33279\n",
      "we drop the 33652\n",
      "we drop the 105394\n",
      "we drop the 107154\n",
      "we drop the 107245\n",
      "we drop the 107712\n",
      "we drop the 107781\n",
      "we drop the 108768\n",
      "we drop the 108831\n",
      "we drop the 115044\n",
      "we drop the 134305\n",
      "we drop the 143770\n",
      "we drop the 146659\n",
      "we drop the 148239\n",
      "we drop the 149683\n",
      "we drop the 162453\n",
      "we drop the 162914\n",
      "we drop the 163596\n",
      "we drop the 170920\n",
      "we drop the 174428\n",
      "we drop the 185323\n",
      "we drop the 185689\n",
      "we drop the 186061\n",
      "we drop the 186130\n"
     ]
    }
   ],
   "source": [
    "X_train_total = []\n",
    "Y_train_total = []\n",
    "\n",
    "X_test_total = []\n",
    "Y_test_total = []\n",
    "\n",
    "seq_len = 12\n",
    "keys = list(df['gvkey'].unique())\n",
    "keys.remove(8214)\n",
    "keys.remove(15350)\n",
    "\n",
    "used_keys = list()\n",
    "norm_dict = {}\n",
    "\n",
    "\n",
    "for key in keys:\n",
    "    df_temp = df[df['gvkey'] == key].drop(['gvkey'], axis=1)\n",
    "    if len(df_temp) != 115:\n",
    "        print(f'we drop the {key}')\n",
    "        continue\n",
    "\n",
    "    # Some columns have all Nan\n",
    "    if df_temp.isnull().all().any():\n",
    "        print(f'we drop the {key}')\n",
    "        continue\n",
    "\n",
    "    used_keys.append(key)\n",
    "\n",
    "    df_temp.ffill(inplace=True)\n",
    "    norm_vector = df_temp.abs().max(axis=0).values\n",
    "    # When a columns is all 0s, its max will be 0. We cannot divide by 0 so replace with 1.\n",
    "    norm_vector[norm_vector == 0] = 1\n",
    "    norm_dict[key] = norm_vector\n",
    "    # Some columns have all 0s so dividing will introduce Nan\n",
    "    df_temp = df_temp / norm_vector\n",
    "\n",
    "    if df_temp.isnull().any().any():\n",
    "        print(key, 'null')\n",
    "\n",
    "    X_list = list()\n",
    "    Y_list = list()\n",
    "    #len(df_temp) is 115\n",
    "    for i in range(len(df_temp) - seq_len - 1):\n",
    "        X_list += [df_temp.iloc[i:i + seq_len].values]\n",
    "        Y_list += [df_temp.iloc[i + seq_len + 1, -1]]\n",
    "\n",
    "    X = np.array(X_list)\n",
    "    Y = np.array(Y_list)\n",
    "    # First 71 quarters are for training\n",
    "    # The 72nd quarter starts to test\n",
    "    # Some gvkeys have no insufficient data (dont have 12 quarters of data).\n",
    "    # >=5 to ensure there is testing data.\n",
    "    if X.shape[0] >= 5:\n",
    "                              \n",
    "        X_train = X[:int(len(X) * 0.7)]\n",
    "        X_test = X[int(len(X) * 0.7):]\n",
    "\n",
    "        Y_train = Y[:int(len(X) * 0.7)]\n",
    "        Y_test = Y[int(len(X) * 0.7):]\n",
    "\n",
    "        X_train_total += [X_train]\n",
    "        X_test_total += [X_test]\n",
    "\n",
    "        Y_train_total += [Y_train]\n",
    "        Y_test_total += [Y_test]"
   ]
  },
  {
   "cell_type": "code",
   "execution_count": 313,
   "metadata": {
    "collapsed": true
   },
   "outputs": [],
   "source": [
    "X_train_total = np.vstack(X_train_total)\n",
    "X_test_total = np.vstack(X_test_total)\n",
    "\n",
    "Y_train_total = np.concatenate(Y_train_total)\n",
    "Y_test_total = np.concatenate(Y_test_total)"
   ]
  },
  {
   "cell_type": "code",
   "execution_count": 314,
   "metadata": {},
   "outputs": [
    {
     "name": "stdout",
     "output_type": "stream",
     "text": [
      "shape is (2982, 12, 17)\n",
      "shape is (2982,)\n",
      "shape is (1302, 12, 17)\n",
      "shape is (1302,)\n"
     ]
    }
   ],
   "source": [
    "# for i in [X_train_total,Y_train_total,  X_test_total, Y_test_total]:\n",
    "#     print(f'shape is {i.shape}')"
   ]
  },
  {
   "cell_type": "code",
   "execution_count": 315,
   "metadata": {},
   "outputs": [],
   "source": [
    "myTimeLine = timeline[71+12+1:]"
   ]
  },
  {
   "cell_type": "markdown",
   "metadata": {},
   "source": [
    "## Model"
   ]
  },
  {
   "cell_type": "code",
   "execution_count": 325,
   "metadata": {
    "scrolled": true
   },
   "outputs": [
    {
     "name": "stdout",
     "output_type": "stream",
     "text": [
      "Epoch 0 completed out of 180 loss: 2.2073222249746323\n",
      "Epoch 1 completed out of 180 loss: 1.736979067325592\n",
      "Epoch 2 completed out of 180 loss: 0.7548550739884377\n",
      "Epoch 3 completed out of 180 loss: 0.9039488583803177\n",
      "Epoch 4 completed out of 180 loss: 0.5335955545306206\n",
      "Epoch 5 completed out of 180 loss: 0.618475891649723\n",
      "Epoch 6 completed out of 180 loss: 0.4577331468462944\n",
      "Epoch 7 completed out of 180 loss: 0.4383341819047928\n",
      "Epoch 8 completed out of 180 loss: 0.40097466856241226\n",
      "Epoch 9 completed out of 180 loss: 0.3699182793498039\n",
      "Epoch 10 completed out of 180 loss: 0.3666232079267502\n",
      "Epoch 11 completed out of 180 loss: 0.3373667523264885\n",
      "Epoch 12 completed out of 180 loss: 0.3322315886616707\n",
      "Epoch 13 completed out of 180 loss: 0.3192125894129276\n",
      "Epoch 14 completed out of 180 loss: 0.3178119920194149\n",
      "Epoch 15 completed out of 180 loss: 0.30798225849866867\n",
      "Epoch 16 completed out of 180 loss: 0.3032173700630665\n",
      "Epoch 17 completed out of 180 loss: 0.2987549528479576\n",
      "Epoch 18 completed out of 180 loss: 0.2960425987839699\n",
      "Epoch 19 completed out of 180 loss: 0.2915024161338806\n",
      "Epoch 20 completed out of 180 loss: 0.28815823793411255\n",
      "Epoch 21 completed out of 180 loss: 0.28617412596940994\n",
      "Epoch 22 completed out of 180 loss: 0.2836245968937874\n",
      "Epoch 23 completed out of 180 loss: 0.28111444786190987\n",
      "Epoch 24 completed out of 180 loss: 0.27935944125056267\n",
      "Epoch 25 completed out of 180 loss: 0.2778984345495701\n",
      "Epoch 26 completed out of 180 loss: 0.2761128284037113\n",
      "Epoch 27 completed out of 180 loss: 0.2747144512832165\n",
      "Epoch 28 completed out of 180 loss: 0.2736674174666405\n",
      "Epoch 29 completed out of 180 loss: 0.2724413424730301\n",
      "Epoch 30 completed out of 180 loss: 0.27135927602648735\n",
      "Epoch 31 completed out of 180 loss: 0.27054405212402344\n",
      "Epoch 32 completed out of 180 loss: 0.26966677233576775\n",
      "Epoch 33 completed out of 180 loss: 0.2688419781625271\n",
      "Epoch 34 completed out of 180 loss: 0.268192607909441\n",
      "Epoch 35 completed out of 180 loss: 0.26752670854330063\n",
      "Epoch 36 completed out of 180 loss: 0.2668895311653614\n",
      "Epoch 37 completed out of 180 loss: 0.2663616053760052\n",
      "Epoch 38 completed out of 180 loss: 0.2658306024968624\n",
      "Epoch 39 completed out of 180 loss: 0.2653253562748432\n",
      "Epoch 40 completed out of 180 loss: 0.2648874968290329\n",
      "Epoch 41 completed out of 180 loss: 0.26445064693689346\n",
      "Epoch 42 completed out of 180 loss: 0.26403943821787834\n",
      "Epoch 43 completed out of 180 loss: 0.26366864889860153\n",
      "Epoch 44 completed out of 180 loss: 0.2633008062839508\n",
      "Epoch 45 completed out of 180 loss: 0.2629571370780468\n",
      "Epoch 46 completed out of 180 loss: 0.2626368850469589\n",
      "Epoch 47 completed out of 180 loss: 0.26232219487428665\n",
      "Epoch 48 completed out of 180 loss: 0.2620280236005783\n",
      "Epoch 49 completed out of 180 loss: 0.26174742728471756\n",
      "Epoch 50 completed out of 180 loss: 0.2614745534956455\n",
      "Epoch 51 completed out of 180 loss: 0.26121752336621284\n",
      "Epoch 52 completed out of 180 loss: 0.2609688937664032\n",
      "Epoch 53 completed out of 180 loss: 0.26072925701737404\n",
      "Epoch 54 completed out of 180 loss: 0.2605006992816925\n",
      "Epoch 55 completed out of 180 loss: 0.2602786682546139\n",
      "Epoch 56 completed out of 180 loss: 0.2600654326379299\n",
      "Epoch 57 completed out of 180 loss: 0.2598600573837757\n",
      "Epoch 58 completed out of 180 loss: 0.259660542011261\n",
      "Epoch 59 completed out of 180 loss: 0.25946858152747154\n",
      "Epoch 60 completed out of 180 loss: 0.25928260385990143\n",
      "Epoch 61 completed out of 180 loss: 0.2591024339199066\n",
      "Epoch 62 completed out of 180 loss: 0.2589282877743244\n",
      "Epoch 63 completed out of 180 loss: 0.25875917822122574\n",
      "Epoch 64 completed out of 180 loss: 0.2585955150425434\n",
      "Epoch 65 completed out of 180 loss: 0.25843656063079834\n",
      "Epoch 66 completed out of 180 loss: 0.2582823932170868\n",
      "Epoch 67 completed out of 180 loss: 0.2581327185034752\n",
      "Epoch 68 completed out of 180 loss: 0.2579873874783516\n",
      "Epoch 69 completed out of 180 loss: 0.257846187800169\n",
      "Epoch 70 completed out of 180 loss: 0.2577090263366699\n",
      "Epoch 71 completed out of 180 loss: 0.25757571309804916\n",
      "Epoch 72 completed out of 180 loss: 0.2574460841715336\n",
      "Epoch 73 completed out of 180 loss: 0.2573200613260269\n",
      "Epoch 74 completed out of 180 loss: 0.25719740241765976\n",
      "Epoch 75 completed out of 180 loss: 0.2570781894028187\n",
      "Epoch 76 completed out of 180 loss: 0.25696197152137756\n",
      "Epoch 77 completed out of 180 loss: 0.2568490281701088\n",
      "Epoch 78 completed out of 180 loss: 0.2567389979958534\n",
      "Epoch 79 completed out of 180 loss: 0.2566317692399025\n",
      "Epoch 80 completed out of 180 loss: 0.2565275765955448\n",
      "Epoch 81 completed out of 180 loss: 0.25642577186226845\n",
      "Epoch 82 completed out of 180 loss: 0.2563268058001995\n",
      "Epoch 83 completed out of 180 loss: 0.25623011589050293\n",
      "Epoch 84 completed out of 180 loss: 0.25613604485988617\n",
      "Epoch 85 completed out of 180 loss: 0.2560441829264164\n",
      "Epoch 86 completed out of 180 loss: 0.2559545785188675\n",
      "Epoch 87 completed out of 180 loss: 0.25586725026369095\n",
      "Epoch 88 completed out of 180 loss: 0.25578200072050095\n",
      "Epoch 89 completed out of 180 loss: 0.25569865852594376\n",
      "Epoch 90 completed out of 180 loss: 0.25561749190092087\n",
      "Epoch 91 completed out of 180 loss: 0.25553811714053154\n",
      "Epoch 92 completed out of 180 loss: 0.2554605267941952\n",
      "Epoch 93 completed out of 180 loss: 0.25538477301597595\n",
      "Epoch 94 completed out of 180 loss: 0.25531068816781044\n",
      "Epoch 95 completed out of 180 loss: 0.25523829087615013\n",
      "Epoch 96 completed out of 180 loss: 0.2551675923168659\n",
      "Epoch 97 completed out of 180 loss: 0.2550983428955078\n",
      "Epoch 98 completed out of 180 loss: 0.2550305984914303\n",
      "Epoch 99 completed out of 180 loss: 0.2549642361700535\n",
      "Epoch 100 completed out of 180 loss: 0.25489935278892517\n",
      "Epoch 101 completed out of 180 loss: 0.2548358105123043\n",
      "Epoch 102 completed out of 180 loss: 0.2547736428678036\n",
      "Epoch 103 completed out of 180 loss: 0.25471261143684387\n",
      "Epoch 104 completed out of 180 loss: 0.2546529024839401\n",
      "Epoch 105 completed out of 180 loss: 0.2545943222939968\n",
      "Epoch 106 completed out of 180 loss: 0.25453684851527214\n",
      "Epoch 107 completed out of 180 loss: 0.2544805072247982\n",
      "Epoch 108 completed out of 180 loss: 0.2544252686202526\n",
      "Epoch 109 completed out of 180 loss: 0.2543710246682167\n",
      "Epoch 110 completed out of 180 loss: 0.25431786850094795\n",
      "Epoch 111 completed out of 180 loss: 0.2542655020952225\n",
      "Epoch 112 completed out of 180 loss: 0.25421421602368355\n",
      "Epoch 113 completed out of 180 loss: 0.25416386500000954\n",
      "Epoch 114 completed out of 180 loss: 0.2541142851114273\n",
      "Epoch 115 completed out of 180 loss: 0.25406555086374283\n",
      "Epoch 116 completed out of 180 loss: 0.25401775911450386\n",
      "Epoch 117 completed out of 180 loss: 0.253970704972744\n",
      "Epoch 118 completed out of 180 loss: 0.2539243623614311\n",
      "Epoch 119 completed out of 180 loss: 0.2538788542151451\n",
      "Epoch 120 completed out of 180 loss: 0.2538340091705322\n",
      "Epoch 121 completed out of 180 loss: 0.2537898160517216\n",
      "Epoch 122 completed out of 180 loss: 0.2537463791668415\n",
      "Epoch 123 completed out of 180 loss: 0.25370362401008606\n",
      "Epoch 124 completed out of 180 loss: 0.25366155058145523\n",
      "Epoch 125 completed out of 180 loss: 0.2536200098693371\n",
      "Epoch 126 completed out of 180 loss: 0.25357911363244057\n",
      "Epoch 127 completed out of 180 loss: 0.2535387799143791\n",
      "Epoch 128 completed out of 180 loss: 0.25349896028637886\n",
      "Epoch 129 completed out of 180 loss: 0.25345978513360023\n",
      "Epoch 130 completed out of 180 loss: 0.2534210719168186\n",
      "Epoch 131 completed out of 180 loss: 0.25338297709822655\n",
      "Epoch 132 completed out of 180 loss: 0.25334539636969566\n",
      "Epoch 133 completed out of 180 loss: 0.25330816954374313\n",
      "Epoch 134 completed out of 180 loss: 0.2532715015113354\n",
      "Epoch 135 completed out of 180 loss: 0.25323521718382835\n",
      "Epoch 136 completed out of 180 loss: 0.25319938734173775\n",
      "Epoch 137 completed out of 180 loss: 0.2531640790402889\n",
      "Epoch 138 completed out of 180 loss: 0.2531292364001274\n",
      "Epoch 139 completed out of 180 loss: 0.25309472531080246\n",
      "Epoch 140 completed out of 180 loss: 0.25306056812405586\n",
      "Epoch 141 completed out of 180 loss: 0.25302693620324135\n",
      "Epoch 142 completed out of 180 loss: 0.2529936209321022\n",
      "Epoch 143 completed out of 180 loss: 0.2529607079923153\n",
      "Epoch 144 completed out of 180 loss: 0.25292812660336494\n",
      "Epoch 145 completed out of 180 loss: 0.25289591029286385\n",
      "Epoch 146 completed out of 180 loss: 0.2528638504445553\n",
      "Epoch 147 completed out of 180 loss: 0.25283245742321014\n",
      "Epoch 148 completed out of 180 loss: 0.25280115380883217\n"
     ]
    },
    {
     "name": "stdout",
     "output_type": "stream",
     "text": [
      "Epoch 149 completed out of 180 loss: 0.25277021899819374\n",
      "Epoch 150 completed out of 180 loss: 0.25273966416716576\n",
      "Epoch 151 completed out of 180 loss: 0.2527092956006527\n",
      "Epoch 152 completed out of 180 loss: 0.25267936289310455\n",
      "Epoch 153 completed out of 180 loss: 0.2526496946811676\n",
      "Epoch 154 completed out of 180 loss: 0.25262022018432617\n",
      "Epoch 155 completed out of 180 loss: 0.2525910399854183\n",
      "Epoch 156 completed out of 180 loss: 0.2525622695684433\n",
      "Epoch 157 completed out of 180 loss: 0.25253354012966156\n",
      "Epoch 158 completed out of 180 loss: 0.2525052912533283\n",
      "Epoch 159 completed out of 180 loss: 0.25247717276215553\n",
      "Epoch 160 completed out of 180 loss: 0.25244931131601334\n",
      "Epoch 161 completed out of 180 loss: 0.25242171436548233\n",
      "Epoch 162 completed out of 180 loss: 0.25239428505301476\n",
      "Epoch 163 completed out of 180 loss: 0.25236714258790016\n",
      "Epoch 164 completed out of 180 loss: 0.2523401826620102\n",
      "Epoch 165 completed out of 180 loss: 0.2523134797811508\n",
      "Epoch 166 completed out of 180 loss: 0.25228699669241905\n",
      "Epoch 167 completed out of 180 loss: 0.2522607147693634\n",
      "Epoch 168 completed out of 180 loss: 0.2522346191108227\n",
      "Epoch 169 completed out of 180 loss: 0.25220874696969986\n",
      "Epoch 170 completed out of 180 loss: 0.25218305364251137\n",
      "Epoch 171 completed out of 180 loss: 0.25215766206383705\n",
      "Epoch 172 completed out of 180 loss: 0.2521323151886463\n",
      "Epoch 173 completed out of 180 loss: 0.25210730731487274\n",
      "Epoch 174 completed out of 180 loss: 0.25208230689167976\n",
      "Epoch 175 completed out of 180 loss: 0.25205758586525917\n",
      "Epoch 176 completed out of 180 loss: 0.2520330399274826\n",
      "Epoch 177 completed out of 180 loss: 0.2520085908472538\n",
      "Epoch 178 completed out of 180 loss: 0.2519843503832817\n",
      "Epoch 179 completed out of 180 loss: 0.251960426568985\n",
      "Testing MAE: 0.18633745615102337\n",
      "Testing MSE: 0.06384514833158235\n"
     ]
    }
   ],
   "source": [
    "parameters = {'hm_epochs': 180,\n",
    "              'n_batches':4,\n",
    "              'rnn_size': 64,\n",
    "              'num_layers': 1,\n",
    "             'attention': False}\n",
    "\n",
    "a = MyLSTM(X_train_total, X_test_total, Y_train_total, Y_test_total, parameters)\n",
    "result = a.train_neural_network()"
   ]
  },
  {
   "cell_type": "markdown",
   "metadata": {},
   "source": [
    "## Process Output"
   ]
  },
  {
   "cell_type": "code",
   "execution_count": 326,
   "metadata": {},
   "outputs": [],
   "source": [
    "# Splits pred_result into blocks of 31\n",
    "pred_result_split = np.split(result, len(result) / 31)\n",
    "pred_result_dict = dict(zip(used_keys, pred_result_split))\n",
    "pred_result = pd.DataFrame.from_dict(pred_result_dict, orient='index').T\n",
    "pred_result['Date'] = myTimeLine\n",
    "pred_result['Date'] = pd.to_datetime(pred_result['Date'])\n",
    "pred_result.set_index('Date', inplace = True)\n",
    "# # Splits Y_test_total into blocks of 31\n",
    "# Y_test_total_split = np.split(Y_test_total, len(Y_test_total) / 31)\n",
    "# Y_test_total_dict = dict(zip(used_keys, Y_test_total_split))\n",
    "# Y_test_total = pd.DataFrame.from_dict(Y_test_total_dict, orient='index').T"
   ]
  },
  {
   "cell_type": "code",
   "execution_count": 327,
   "metadata": {},
   "outputs": [],
   "source": [
    "df1 = pd.read_csv(\n",
    "    '/Users/bowen/Desktop/H/deeplearninveststrat/Data/100_clean.csv', index_col=0)\n",
    "df1 = df1[['gvkey', 'Date', 'Adjusted Close', 'Volume']]\n",
    "df1['Date'] = pd.to_datetime(df1['Date'])\n",
    "df1.set_index('Date', inplace=True)\n",
    "df1 = df1[df1.index >= datetime.strptime(myTimeLine[0], '%Y-%m-%d')]\n",
    "\n",
    "\n",
    "df1gb = df1.groupby('gvkey')\n",
    "final = {}\n",
    "for key, data in df1gb:\n",
    "    if key in used_keys:\n",
    "        data['PredictedNextIndicator'] = pred_result.loc[:, key]\n",
    "        final[key] = data\n",
    "        final[key]['PredictedNextIndicator'] = final[key]['PredictedNextIndicator'].shift(\n",
    "            -1)\n",
    "        final[key] = final[key].dropna()\n",
    "\n",
    "\n",
    "ff = final[1209]\n",
    "for k in used_keys[1:]:\n",
    "    ff = pd.concat([ff, final[k]])"
   ]
  },
  {
   "cell_type": "markdown",
   "metadata": {
    "collapsed": true
   },
   "source": [
    "# BackTesting"
   ]
  },
  {
   "cell_type": "code",
   "execution_count": 328,
   "metadata": {},
   "outputs": [],
   "source": [
    "spx = pd.read_excel('/Users/bowen/Desktop/myGit/deeplearninveststrat/monthendpricehistory.xls')\n",
    "spx['Date'] = pd.to_datetime(spx['Date'])\n",
    "spx.set_index('Date', inplace = True)\n",
    "spx = spx[['SPX']]\n",
    "spx = spx[spx.index >= datetime.strptime(myTimeLine[0], '%Y-%m-%d')]\n",
    "spxInitialShare = 100000000/spx['SPX'].iloc[0]\n",
    "spx['SPXBench'] = spx['SPX'] * spxInitialShare"
   ]
  },
  {
   "cell_type": "code",
   "execution_count": 329,
   "metadata": {},
   "outputs": [],
   "source": [
    "df2 = ff.pivot(columns = 'gvkey', values = ['Adjusted Close', 'Volume', 'PredictedNextIndicator'])\n",
    "periods = len(df2)\n",
    "prices = df2['Adjusted Close'].values\n",
    "indicators = df2['PredictedNextIndicator'].values\n",
    "volume = df2['Volume'].values * 1000000\n",
    "tickers = df2['Volume'].columns.values"
   ]
  },
  {
   "cell_type": "code",
   "execution_count": 330,
   "metadata": {
    "scrolled": true
   },
   "outputs": [
    {
     "name": "stdout",
     "output_type": "stream",
     "text": [
      "282.316666662693\n",
      "282.316666662693\n",
      "282.316666662693\n",
      "282.316666662693\n",
      "282.316666662693\n",
      "282.316666662693\n",
      "282.316666662693\n",
      "282.316666662693\n",
      "282.316666662693\n",
      "282.316666662693\n",
      "282.316666662693\n",
      "282.316666662693\n",
      "Month12 stock 5256 avaliable capital is 18350757.116666663, the volums is 33080842000000.0\n",
      "Month12 stock 7154 avaliable capital is 31232839.57666666, the volums is 329664826000000.0\n",
      "Month12 stock 7277 avaliable capital is 36444509.77666666, the volums is 453527000000.0\n",
      "Month12 stock 5252 avaliable capital is 52867884.559999995, the volums is 18681926000000.0\n",
      "Month12 stock 5597 avaliable capital is 72074809.44, the volums is 66304444000000.0\n",
      "Month12 stock 4060 avaliable capital is 84943651.44, the volums is 623351901000000.0\n",
      "291.459999980405\n",
      "291.459999980405\n",
      "291.459999980405\n",
      "Month15 stock 15247 avaliable capital is 16596515.509999981, the volums is 487340995000000.0\n",
      "42.429999981075525\n",
      "42.429999981075525\n",
      "Month17 stock 8549 avaliable capital is 7688489.029999981, the volums is 387055957000000.0\n",
      "10.429999981075525\n",
      "10.429999981075525\n",
      "10.429999981075525\n",
      "10.429999981075525\n",
      "10.429999981075525\n",
      "10.429999981075525\n",
      "Month23 stock 8358 avaliable capital is 14785474.249999981, the volums is 76136988000000.0\n",
      "2.1499999817460775\n",
      "Month24 stock 4510 avaliable capital is 12864857.089999983, the volums is 86979582000000.0\n",
      "Month24 stock 2960 avaliable capital is 41774332.44999998, the volums is 5551355000000.0\n",
      "Month24 stock 3138 avaliable capital is 76090448.19999999, the volums is 2984452000000.0\n",
      "177.0299999937415\n",
      "177.0299999937415\n",
      "Month26 stock 1920 avaliable capital is 2242146.149999994, the volums is 273833615000000.0\n",
      "8.809999994002283\n",
      "Month27 stock 1678 avaliable capital is 11176414.819999993, the volums is 211536782000000.0\n",
      "36.58999999426305\n",
      "Month28 stock 6066 avaliable capital is 11283157.069999995, the volums is 339359365000000.0\n",
      "0.5099999960511923\n",
      "Month29 stock 3580 avaliable capital is 10486907.309999995, the volums is 17537402000000.0\n"
     ]
    }
   ],
   "source": [
    "mm = algo2(prices[0, :], indicators[0, :], volume[0, :], len(tickers), tickers)\n",
    "for i in range(1, periods):\n",
    "    print(mm.avail_capital)\n",
    "    mm.process_new_data(prices[i, :], indicators[i, :], volume_monthly[i, :])"
   ]
  },
  {
   "cell_type": "code",
   "execution_count": 331,
   "metadata": {},
   "outputs": [],
   "source": [
    "port_val = [i for i in mm.port_value.values()]\n",
    "tt = df2['Adjusted Close'].index.tolist()\n",
    "portfolio = pd.DataFrame(port_val,tt, columns =['PortfolioValue'])\n",
    "portfolio.index.name = 'Date'\n",
    "portfolio = pd.concat([portfolio,spx], axis = 1)\n",
    "portfolio = portfolio.dropna()"
   ]
  },
  {
   "cell_type": "code",
   "execution_count": 332,
   "metadata": {
    "scrolled": false
   },
   "outputs": [
    {
     "data": {
      "image/png": "[encoded data removed]",
      "text/plain": [
       "<Figure size 1296x504 with 1 Axes>"
      ]
     },
     "metadata": {},
     "output_type": "display_data"
    }
   ],
   "source": [
    "plt.figure(figsize=(18,7))\n",
    "plt.plot(portfolio['PortfolioValue'],'*-',label='Our Portfolio')\n",
    "plt.plot(portfolio['SPXBench'],label='SPX')\n",
    "plt.grid()\n",
    "plt.legend(loc=0, prop={'size': 12})\n",
    "plt.show()"
   ]
  },
  {
   "cell_type": "code",
   "execution_count": 333,
   "metadata": {},
   "outputs": [
    {
     "data": {
      "text/plain": [
       "1.3376694554519535"
      ]
     },
     "execution_count": 333,
     "metadata": {},
     "output_type": "execute_result"
    }
   ],
   "source": [
    "pnl = [i-100000000 for i in mm.port_value.values()]\n",
    "np.mean(pnl)/np.std(pnl, ddof=1)"
   ]
  },
  {
   "cell_type": "code",
   "execution_count": null,
   "metadata": {
    "collapsed": true
   },
   "outputs": [],
   "source": []
  }
 ],
 "metadata": {
  "kernelspec": {
   "display_name": "Python 3",
   "language": "python",
   "name": "python3"
  },
  "language_info": {
   "codemirror_mode": {
    "name": "ipython",
    "version": 3
   },
   "file_extension": ".py",
   "mimetype": "text/x-python",
   "name": "python",
   "nbconvert_exporter": "python",
   "pygments_lexer": "ipython3",
   "version": "3.6.2"
  },
  "latex_envs": {
   "LaTeX_envs_menu_present": true,
   "autocomplete": true,
   "bibliofile": "biblio.bib",
   "cite_by": "apalike",
   "current_citInitial": 1,
   "eqLabelWithNumbers": true,
   "eqNumInitial": 1,
   "hotkeys": {
    "equation": "Ctrl-E",
    "itemize": "Ctrl-I"
   },
   "labels_anchors": false,
   "latex_user_defs": false,
   "report_style_numbering": false,
   "user_envs_cfg": false
  }
 },
 "nbformat": 4,
 "nbformat_minor": 2
}
